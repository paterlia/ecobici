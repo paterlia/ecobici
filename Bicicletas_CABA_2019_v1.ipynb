{
 "cells": [
  {
   "cell_type": "markdown",
   "metadata": {},
   "source": [
    "# Relax and take a bike ride! - Part I"
   ]
  },
  {
   "cell_type": "markdown",
   "metadata": {},
   "source": [
    "Ecobici is a bicycle-sharing system, also known as a public bicycle scheme, in the Autonomous City of Buenos Aires. Its operation started in 2010 intending to promote a healthy and environmentally friendly transportation and to encourage the use of an alternative method which reduces traffic congestion. \n",
    "\n",
    "In 2018 the Buenos Aires legislature approved the concession of the system for ten years to Teambici, a Brazilian private enterprise. In February 2019, Teambici began with the renovation of the bicycles and installation of new stations to distributing 4000 bicycles across 400 stations in 38 neighborhoods.\n",
    "\n",
    "There are several complains about the hard work to find an available bicycle. So, I have started a project with the aim to understand the usage pattern of the system, to predict in a simple way the bicycle demand and to identify which stations should be upgraded or moved. The project will be divided into four parts:\n",
    "\n",
    "- Part I: Data acquisition and data cleaning\n",
    "- Part II: Exploratory data analysis\n",
    "- Part III: Bicycle demand model\n",
    "- Part IV: Station clusteirng and insights\n",
    "\n",
    "\n"
   ]
  },
  {
   "cell_type": "markdown",
   "metadata": {},
   "source": [
    "## Data acquisition and data cleaning"
   ]
  },
  {
   "cell_type": "markdown",
   "metadata": {},
   "source": [
    "I have chosen the data set from 2019 because the pandemic situation has abruptly modified the transport behaviour in the city in 2020. \n",
    "\n",
    "The data set was download from the open data page of the Autonomous City of Buenos Aires. You can download it from [here](https://data.buenosaires.gob.ar/)."
   ]
  },
  {
   "cell_type": "code",
   "execution_count": 1,
   "metadata": {},
   "outputs": [],
   "source": [
    "import pandas as pd\n",
    "import numpy as np\n",
    "import datetime as dt\n",
    "import missingno as msno\n",
    "import matplotlib.pyplot as plt\n",
    "import seaborn as sns"
   ]
  },
  {
   "cell_type": "code",
   "execution_count": 2,
   "metadata": {},
   "outputs": [
    {
     "name": "stderr",
     "output_type": "stream",
     "text": [
      "c:\\users\\usuario\\anaconda3\\lib\\site-packages\\IPython\\core\\interactiveshell.py:3145: DtypeWarning: Columns (0,2,4,12) have mixed types.Specify dtype option on import or set low_memory=False.\n",
      "  has_raised = await self.run_ast_nodes(code_ast.body, cell_name,\n"
     ]
    }
   ],
   "source": [
    "df = pd.read_csv(r\"recorridos-realizados-2019.csv\")"
   ]
  },
  {
   "cell_type": "markdown",
   "metadata": {},
   "source": [
    "### Summary"
   ]
  },
  {
   "cell_type": "code",
   "execution_count": 3,
   "metadata": {},
   "outputs": [
    {
     "data": {
      "text/html": [
       "<div>\n",
       "<style scoped>\n",
       "    .dataframe tbody tr th:only-of-type {\n",
       "        vertical-align: middle;\n",
       "    }\n",
       "\n",
       "    .dataframe tbody tr th {\n",
       "        vertical-align: top;\n",
       "    }\n",
       "\n",
       "    .dataframe thead th {\n",
       "        text-align: right;\n",
       "    }\n",
       "</style>\n",
       "<table border=\"1\" class=\"dataframe\">\n",
       "  <thead>\n",
       "    <tr style=\"text-align: right;\">\n",
       "      <th></th>\n",
       "      <th>id_usuario</th>\n",
       "      <th>edad_usuario</th>\n",
       "      <th>genero_usuario</th>\n",
       "      <th>fecha_origen_recorrido</th>\n",
       "      <th>id_estacion_origen</th>\n",
       "      <th>nombre_estacion_origen</th>\n",
       "      <th>direccion_estacion_origen</th>\n",
       "      <th>capacidad_estacion_origen</th>\n",
       "      <th>lat_estacion_origen</th>\n",
       "      <th>long_estacion_origen</th>\n",
       "      <th>duracion_recorrido</th>\n",
       "      <th>fecha_destino_recorrido</th>\n",
       "      <th>id_estacion_destino</th>\n",
       "      <th>nombre_estacion_destino</th>\n",
       "      <th>direccion_estacion_destino</th>\n",
       "      <th>capacidad_estacion_destino</th>\n",
       "      <th>lat_estacion_destino</th>\n",
       "      <th>long_estacion_destino</th>\n",
       "      <th>servicio</th>\n",
       "    </tr>\n",
       "  </thead>\n",
       "  <tbody>\n",
       "    <tr>\n",
       "      <th>1361572</th>\n",
       "      <td>152721</td>\n",
       "      <td>NaN</td>\n",
       "      <td>NaN</td>\n",
       "      <td>2019-06-06 20:26:44</td>\n",
       "      <td>116</td>\n",
       "      <td>HOSPITAL ALEMÁN</td>\n",
       "      <td>Beruti y Ecuador</td>\n",
       "      <td>12.0</td>\n",
       "      <td>-34.592171</td>\n",
       "      <td>-58.402589</td>\n",
       "      <td>0 days 00:07:31.000000000</td>\n",
       "      <td>2019-06-06 20:34:15</td>\n",
       "      <td>202</td>\n",
       "      <td>FACULTAD DE DERECHO</td>\n",
       "      <td>Figueroa Alcorta, Pres. Av. 2120</td>\n",
       "      <td>30.0</td>\n",
       "      <td>-34.583811</td>\n",
       "      <td>-58.390967</td>\n",
       "      <td>nuevo</td>\n",
       "    </tr>\n",
       "    <tr>\n",
       "      <th>3925883</th>\n",
       "      <td>56489</td>\n",
       "      <td>NaN</td>\n",
       "      <td>NaN</td>\n",
       "      <td>2019-09-14 13:20</td>\n",
       "      <td>90</td>\n",
       "      <td>090 - GUTIERREZ</td>\n",
       "      <td>Gutierrez, Juan Maria 2685</td>\n",
       "      <td>20.0</td>\n",
       "      <td>-34.586632</td>\n",
       "      <td>-58.399875</td>\n",
       "      <td>0 days 01:12:24.000000000</td>\n",
       "      <td>2019-09-14 14:32</td>\n",
       "      <td>15</td>\n",
       "      <td>015 - JUANA MANSO II</td>\n",
       "      <td>Manso Juana y De La Barra,  Emma</td>\n",
       "      <td>20.0</td>\n",
       "      <td>-34.600400</td>\n",
       "      <td>-58.363671</td>\n",
       "      <td>antiguo</td>\n",
       "    </tr>\n",
       "    <tr>\n",
       "      <th>6116935</th>\n",
       "      <td>478905</td>\n",
       "      <td>NaN</td>\n",
       "      <td>NaN</td>\n",
       "      <td>2019-11-12 22:39</td>\n",
       "      <td>370</td>\n",
       "      <td>305 - Plaza Martin Rodriguez</td>\n",
       "      <td>Pareja 3016</td>\n",
       "      <td>20.0</td>\n",
       "      <td>-34.590964</td>\n",
       "      <td>-58.500336</td>\n",
       "      <td>0 days 00:34:17.000000000</td>\n",
       "      <td>2019-11-12 23:13</td>\n",
       "      <td>370</td>\n",
       "      <td>305 - Plaza Martin Rodriguez</td>\n",
       "      <td>Pareja 3016</td>\n",
       "      <td>20.0</td>\n",
       "      <td>-34.590964</td>\n",
       "      <td>-58.500336</td>\n",
       "      <td>antiguo</td>\n",
       "    </tr>\n",
       "    <tr>\n",
       "      <th>866689</th>\n",
       "      <td>177410</td>\n",
       "      <td>NaN</td>\n",
       "      <td>NaN</td>\n",
       "      <td>2019-05-20 08:31:38</td>\n",
       "      <td>248</td>\n",
       "      <td>Plaza Zapiola</td>\n",
       "      <td>Donado 2001</td>\n",
       "      <td>20.0</td>\n",
       "      <td>-34.573841</td>\n",
       "      <td>-58.474281</td>\n",
       "      <td>0 days 00:46:12.000000000</td>\n",
       "      <td>2019-05-20 09:17:50</td>\n",
       "      <td>248</td>\n",
       "      <td>Plaza Zapiola</td>\n",
       "      <td>Donado 2001</td>\n",
       "      <td>20.0</td>\n",
       "      <td>-34.573841</td>\n",
       "      <td>-58.474281</td>\n",
       "      <td>nuevo</td>\n",
       "    </tr>\n",
       "    <tr>\n",
       "      <th>979936</th>\n",
       "      <td>8037</td>\n",
       "      <td>NaN</td>\n",
       "      <td>NaN</td>\n",
       "      <td>2019-05-24 18:13:13</td>\n",
       "      <td>104</td>\n",
       "      <td>Federico Lacroze</td>\n",
       "      <td>Guzman Av. 1100</td>\n",
       "      <td>30.0</td>\n",
       "      <td>-34.587617</td>\n",
       "      <td>-58.455212</td>\n",
       "      <td>0 days 00:43:23.000000000</td>\n",
       "      <td>2019-05-24 18:56:36</td>\n",
       "      <td>91</td>\n",
       "      <td>Pasco</td>\n",
       "      <td>Pasco 708</td>\n",
       "      <td>20.0</td>\n",
       "      <td>-34.617448</td>\n",
       "      <td>-58.397602</td>\n",
       "      <td>nuevo</td>\n",
       "    </tr>\n",
       "  </tbody>\n",
       "</table>\n",
       "</div>"
      ],
      "text/plain": [
       "        id_usuario  edad_usuario genero_usuario fecha_origen_recorrido  \\\n",
       "1361572     152721           NaN            NaN    2019-06-06 20:26:44   \n",
       "3925883      56489           NaN            NaN       2019-09-14 13:20   \n",
       "6116935     478905           NaN            NaN       2019-11-12 22:39   \n",
       "866689      177410           NaN            NaN    2019-05-20 08:31:38   \n",
       "979936        8037           NaN            NaN    2019-05-24 18:13:13   \n",
       "\n",
       "        id_estacion_origen        nombre_estacion_origen  \\\n",
       "1361572                116               HOSPITAL ALEMÁN   \n",
       "3925883                 90               090 - GUTIERREZ   \n",
       "6116935                370  305 - Plaza Martin Rodriguez   \n",
       "866689                 248                 Plaza Zapiola   \n",
       "979936                 104              Federico Lacroze   \n",
       "\n",
       "          direccion_estacion_origen  capacidad_estacion_origen  \\\n",
       "1361572            Beruti y Ecuador                       12.0   \n",
       "3925883  Gutierrez, Juan Maria 2685                       20.0   \n",
       "6116935                 Pareja 3016                       20.0   \n",
       "866689                  Donado 2001                       20.0   \n",
       "979936              Guzman Av. 1100                       30.0   \n",
       "\n",
       "         lat_estacion_origen  long_estacion_origen         duracion_recorrido  \\\n",
       "1361572           -34.592171            -58.402589  0 days 00:07:31.000000000   \n",
       "3925883           -34.586632            -58.399875  0 days 01:12:24.000000000   \n",
       "6116935           -34.590964            -58.500336  0 days 00:34:17.000000000   \n",
       "866689            -34.573841            -58.474281  0 days 00:46:12.000000000   \n",
       "979936            -34.587617            -58.455212  0 days 00:43:23.000000000   \n",
       "\n",
       "        fecha_destino_recorrido id_estacion_destino  \\\n",
       "1361572     2019-06-06 20:34:15                 202   \n",
       "3925883        2019-09-14 14:32                  15   \n",
       "6116935        2019-11-12 23:13                 370   \n",
       "866689      2019-05-20 09:17:50                 248   \n",
       "979936      2019-05-24 18:56:36                  91   \n",
       "\n",
       "              nombre_estacion_destino        direccion_estacion_destino  \\\n",
       "1361572           FACULTAD DE DERECHO  Figueroa Alcorta, Pres. Av. 2120   \n",
       "3925883          015 - JUANA MANSO II  Manso Juana y De La Barra,  Emma   \n",
       "6116935  305 - Plaza Martin Rodriguez                       Pareja 3016   \n",
       "866689                  Plaza Zapiola                       Donado 2001   \n",
       "979936                          Pasco                         Pasco 708   \n",
       "\n",
       "         capacidad_estacion_destino  lat_estacion_destino  \\\n",
       "1361572                        30.0            -34.583811   \n",
       "3925883                        20.0            -34.600400   \n",
       "6116935                        20.0            -34.590964   \n",
       "866689                         20.0            -34.573841   \n",
       "979936                         20.0            -34.617448   \n",
       "\n",
       "         long_estacion_destino servicio  \n",
       "1361572             -58.390967    nuevo  \n",
       "3925883             -58.363671  antiguo  \n",
       "6116935             -58.500336  antiguo  \n",
       "866689              -58.474281    nuevo  \n",
       "979936              -58.397602    nuevo  "
      ]
     },
     "execution_count": 3,
     "metadata": {},
     "output_type": "execute_result"
    }
   ],
   "source": [
    "df.sample(5)"
   ]
  },
  {
   "cell_type": "code",
   "execution_count": 4,
   "metadata": {},
   "outputs": [
    {
     "data": {
      "text/plain": [
       "(6367314, 19)"
      ]
     },
     "execution_count": 4,
     "metadata": {},
     "output_type": "execute_result"
    }
   ],
   "source": [
    "df.shape"
   ]
  },
  {
   "cell_type": "markdown",
   "metadata": {},
   "source": [
    "The data set has 6.367.314 entries and 19 columns. Each coloumn or variable represents the following information:"
   ]
  },
  {
   "cell_type": "markdown",
   "metadata": {},
   "source": [
    "- id_usuario: intern codification to identify every user.\n",
    "- edad_usario: user's age.\n",
    "- genero_usuario: user's gender.\n",
    "- fecha_origen_recorrido: start datetime for each ride.\n",
    "- id_estación_origen: starting station id.\n",
    "- nombre_estacion_origen: starting station name.\n",
    "- dirección_estacion_origen: address of the starting station.\n",
    "- capacidad_origen: max capacity of starting station.\n",
    "- lat_estacion_origen: latitude of starting station.\n",
    "- long_estacion_origen: longitude of starting station.\n",
    "- duración_recorrido: duration in seconds of the ride.\n",
    "- fecha_destini_recorrido: end datetime for each ride.\n",
    "- id_estación_destino: ending station id.\n",
    "- nombre_estacion_destino: ending station name.\n",
    "- dirección_estacion_destino: address of the ending station.\n",
    "- capacidad_destino: max capacity of ending station.\n",
    "- lat_estacion_destino: latitude of ending station.\n",
    "- long_estacion_destino: longitude of ending station.\n",
    "- servicio: refers to the old or new system."
   ]
  },
  {
   "cell_type": "code",
   "execution_count": 8,
   "metadata": {},
   "outputs": [
    {
     "name": "stdout",
     "output_type": "stream",
     "text": [
      "<class 'pandas.core.frame.DataFrame'>\n",
      "RangeIndex: 6367314 entries, 0 to 6367313\n",
      "Data columns (total 19 columns):\n",
      " #   Column                      Dtype  \n",
      "---  ------                      -----  \n",
      " 0   id_usuario                  object \n",
      " 1   edad_usuario                float64\n",
      " 2   genero_usuario              object \n",
      " 3   fecha_origen_recorrido      object \n",
      " 4   id_estacion_origen          object \n",
      " 5   nombre_estacion_origen      object \n",
      " 6   direccion_estacion_origen   object \n",
      " 7   capacidad_estacion_origen   float64\n",
      " 8   lat_estacion_origen         float64\n",
      " 9   long_estacion_origen        float64\n",
      " 10  duracion_recorrido          object \n",
      " 11  fecha_destino_recorrido     object \n",
      " 12  id_estacion_destino         object \n",
      " 13  nombre_estacion_destino     object \n",
      " 14  direccion_estacion_destino  object \n",
      " 15  capacidad_estacion_destino  float64\n",
      " 16  lat_estacion_destino        float64\n",
      " 17  long_estacion_destino       float64\n",
      " 18  servicio                    object \n",
      "dtypes: float64(7), object(12)\n",
      "memory usage: 923.0+ MB\n"
     ]
    }
   ],
   "source": [
    "df.info()"
   ]
  },
  {
   "cell_type": "markdown",
   "metadata": {},
   "source": [
    "#### Missing values"
   ]
  },
  {
   "cell_type": "code",
   "execution_count": 5,
   "metadata": {},
   "outputs": [
    {
     "data": {
      "text/plain": [
       "id_usuario                          0\n",
       "edad_usuario                  6163203\n",
       "genero_usuario                6163203\n",
       "fecha_origen_recorrido              0\n",
       "id_estacion_origen              14697\n",
       "nombre_estacion_origen              4\n",
       "direccion_estacion_origen      129481\n",
       "capacidad_estacion_origen      218804\n",
       "lat_estacion_origen             16840\n",
       "long_estacion_origen            16840\n",
       "duracion_recorrido                149\n",
       "fecha_destino_recorrido           151\n",
       "id_estacion_destino             14807\n",
       "nombre_estacion_destino             4\n",
       "direccion_estacion_destino     129917\n",
       "capacidad_estacion_destino     218914\n",
       "lat_estacion_destino            17105\n",
       "long_estacion_destino           17105\n",
       "servicio                            4\n",
       "dtype: int64"
      ]
     },
     "execution_count": 5,
     "metadata": {},
     "output_type": "execute_result"
    }
   ],
   "source": [
    "df.isna().sum()"
   ]
  },
  {
   "cell_type": "code",
   "execution_count": 6,
   "metadata": {},
   "outputs": [
    {
     "data": {
      "text/plain": [
       "<AxesSubplot:>"
      ]
     },
     "execution_count": 6,
     "metadata": {},
     "output_type": "execute_result"
    },
    {
     "data": {
      "image/png": "[encoded data removed]",
      "text/plain": [
       "<Figure size 1800x720 with 2 Axes>"
      ]
     },
     "metadata": {
      "needs_background": "light"
     },
     "output_type": "display_data"
    }
   ],
   "source": [
    "msno.matrix(df)"
   ]
  },
  {
   "cell_type": "code",
   "execution_count": 7,
   "metadata": {},
   "outputs": [
    {
     "data": {
      "text/plain": [
       "<AxesSubplot:>"
      ]
     },
     "execution_count": 7,
     "metadata": {},
     "output_type": "execute_result"
    },
    {
     "data": {
      "image/png": "[encoded data removed]",
      "text/plain": [
       "<Figure size 1728x720 with 3 Axes>"
      ]
     },
     "metadata": {
      "needs_background": "light"
     },
     "output_type": "display_data"
    }
   ],
   "source": [
    "msno.bar(df)"
   ]
  },
  {
   "cell_type": "markdown",
   "metadata": {},
   "source": [
    "The edad_usuario and genero_usuario columns have a high number of missing values. "
   ]
  },
  {
   "cell_type": "markdown",
   "metadata": {},
   "source": [
    "Let's use the heatmap function of missingno library to identify if there is any correlation between missing values in different columns."
   ]
  },
  {
   "cell_type": "code",
   "execution_count": 8,
   "metadata": {},
   "outputs": [
    {
     "data": {
      "text/plain": [
       "<AxesSubplot:>"
      ]
     },
     "execution_count": 8,
     "metadata": {},
     "output_type": "execute_result"
    },
    {
     "data": {
      "image/png": "[encoded data removed]",
      "text/plain": [
       "<Figure size 1440x864 with 2 Axes>"
      ]
     },
     "metadata": {
      "needs_background": "light"
     },
     "output_type": "display_data"
    }
   ],
   "source": [
    "msno.heatmap(df)"
   ]
  },
  {
   "cell_type": "markdown",
   "metadata": {},
   "source": [
    "From the chart I can say that _longitud_ and _latitude_ columns are related with _id_estacion._ This makes sense because if we don't know which station is we can't infer its address. The same happens with _fecha_ and _duracion_ columns because if one of them is missing we can't calculate the other one.\n",
    "\n",
    "Something interesting it is happening between _edad_usuario_,  _genero_usuario_  and _capacidad_ columns. If one appears, the other is very likely to be missing. The first two are related with the user and the last with the station and according to the matrix chart, _genero_usuario_ and _edad_usuario_ only appears in the first entries and for _capacidad_ is exactly the opposite. Probably, it is connected whit the renovation of the Ecobici system."
   ]
  },
  {
   "cell_type": "markdown",
   "metadata": {},
   "source": [
    "### Data Cleaning"
   ]
  },
  {
   "cell_type": "markdown",
   "metadata": {},
   "source": [
    "The columns that represent detail information about other variables will be removed. This is the case of the following features:\n",
    "\n",
    "- direccion_estacion_origen\n",
    "- direccion_estacion_destino\n",
    "\n",
    "The variables nombre_estacion_origen and nombre_estacion_destino will be used to fill missing values on id_estacion and capacidad_estacion with the help of an auxiliary data set."
   ]
  },
  {
   "cell_type": "code",
   "execution_count": 9,
   "metadata": {},
   "outputs": [],
   "source": [
    "df.drop(['direccion_estacion_origen', 'direccion_estacion_destino'], axis=1, inplace=True)"
   ]
  },
  {
   "cell_type": "markdown",
   "metadata": {},
   "source": [
    "Those variables with very high number of missing values should be droped. This is the case of:\n",
    "\n",
    "- edad_usuario\n",
    "- genero_usuario\n"
   ]
  },
  {
   "cell_type": "code",
   "execution_count": 10,
   "metadata": {},
   "outputs": [],
   "source": [
    "df.drop(['edad_usuario', 'genero_usuario'], axis=1, inplace=True)"
   ]
  },
  {
   "cell_type": "markdown",
   "metadata": {},
   "source": [
    "Those variables with no relevant information will be droped too. This is the case of _servicio_"
   ]
  },
  {
   "cell_type": "code",
   "execution_count": 11,
   "metadata": {},
   "outputs": [],
   "source": [
    "df.drop('servicio', axis=1, inplace=True)"
   ]
  },
  {
   "cell_type": "markdown",
   "metadata": {},
   "source": [
    "#### id_usuario"
   ]
  },
  {
   "cell_type": "markdown",
   "metadata": {},
   "source": [
    "According to the warning generated in cell 2 it is probably that _id_usuario_ has different data types. "
   ]
  },
  {
   "cell_type": "code",
   "execution_count": 12,
   "metadata": {},
   "outputs": [
    {
     "data": {
      "text/plain": [
       "array(['115783_0', '345364_0', '570578_0', ..., 494906, 618404, 606607],\n",
       "      dtype=object)"
      ]
     },
     "execution_count": 12,
     "metadata": {},
     "output_type": "execute_result"
    }
   ],
   "source": [
    "df['id_usuario'].unique()"
   ]
  },
  {
   "cell_type": "code",
   "execution_count": 13,
   "metadata": {},
   "outputs": [],
   "source": [
    "df['id_usuario'] = df['id_usuario'].astype('str')"
   ]
  },
  {
   "cell_type": "code",
   "execution_count": 14,
   "metadata": {},
   "outputs": [],
   "source": [
    "df['id_usuario'] = df['id_usuario'].str.replace('_','.')"
   ]
  },
  {
   "cell_type": "code",
   "execution_count": 15,
   "metadata": {},
   "outputs": [],
   "source": [
    "df['id_usuario'] = df['id_usuario'].astype('float64').astype('int64')"
   ]
  },
  {
   "cell_type": "markdown",
   "metadata": {},
   "source": [
    "#### Datetime"
   ]
  },
  {
   "cell_type": "markdown",
   "metadata": {},
   "source": [
    "I need _fecha_origen_recorrido_ column to be a datetime object. First, I will evaluate if this column has values which not represent a date."
   ]
  },
  {
   "cell_type": "code",
   "execution_count": 16,
   "metadata": {},
   "outputs": [
    {
     "data": {
      "text/html": [
       "<div>\n",
       "<style scoped>\n",
       "    .dataframe tbody tr th:only-of-type {\n",
       "        vertical-align: middle;\n",
       "    }\n",
       "\n",
       "    .dataframe tbody tr th {\n",
       "        vertical-align: top;\n",
       "    }\n",
       "\n",
       "    .dataframe thead th {\n",
       "        text-align: right;\n",
       "    }\n",
       "</style>\n",
       "<table border=\"1\" class=\"dataframe\">\n",
       "  <thead>\n",
       "    <tr style=\"text-align: right;\">\n",
       "      <th></th>\n",
       "      <th>id_usuario</th>\n",
       "      <th>fecha_origen_recorrido</th>\n",
       "      <th>id_estacion_origen</th>\n",
       "      <th>nombre_estacion_origen</th>\n",
       "      <th>capacidad_estacion_origen</th>\n",
       "      <th>lat_estacion_origen</th>\n",
       "      <th>long_estacion_origen</th>\n",
       "      <th>duracion_recorrido</th>\n",
       "      <th>fecha_destino_recorrido</th>\n",
       "      <th>id_estacion_destino</th>\n",
       "      <th>nombre_estacion_destino</th>\n",
       "      <th>capacidad_estacion_destino</th>\n",
       "      <th>lat_estacion_destino</th>\n",
       "      <th>long_estacion_destino</th>\n",
       "    </tr>\n",
       "  </thead>\n",
       "  <tbody>\n",
       "    <tr>\n",
       "      <th>2459356</th>\n",
       "      <td>130849</td>\n",
       "      <td>nuevo</td>\n",
       "      <td>NaN</td>\n",
       "      <td>NaN</td>\n",
       "      <td>NaN</td>\n",
       "      <td>NaN</td>\n",
       "      <td>NaN</td>\n",
       "      <td>NaN</td>\n",
       "      <td>NaN</td>\n",
       "      <td>NaN</td>\n",
       "      <td>NaN</td>\n",
       "      <td>NaN</td>\n",
       "      <td>NaN</td>\n",
       "      <td>NaN</td>\n",
       "    </tr>\n",
       "    <tr>\n",
       "      <th>2461804</th>\n",
       "      <td>130849</td>\n",
       "      <td>nuevo</td>\n",
       "      <td>NaN</td>\n",
       "      <td>NaN</td>\n",
       "      <td>NaN</td>\n",
       "      <td>NaN</td>\n",
       "      <td>NaN</td>\n",
       "      <td>NaN</td>\n",
       "      <td>NaN</td>\n",
       "      <td>NaN</td>\n",
       "      <td>NaN</td>\n",
       "      <td>NaN</td>\n",
       "      <td>NaN</td>\n",
       "      <td>NaN</td>\n",
       "    </tr>\n",
       "    <tr>\n",
       "      <th>2464252</th>\n",
       "      <td>130849</td>\n",
       "      <td>nuevo</td>\n",
       "      <td>NaN</td>\n",
       "      <td>NaN</td>\n",
       "      <td>NaN</td>\n",
       "      <td>NaN</td>\n",
       "      <td>NaN</td>\n",
       "      <td>NaN</td>\n",
       "      <td>NaN</td>\n",
       "      <td>NaN</td>\n",
       "      <td>NaN</td>\n",
       "      <td>NaN</td>\n",
       "      <td>NaN</td>\n",
       "      <td>NaN</td>\n",
       "    </tr>\n",
       "    <tr>\n",
       "      <th>2466700</th>\n",
       "      <td>130849</td>\n",
       "      <td>nuevo</td>\n",
       "      <td>NaN</td>\n",
       "      <td>NaN</td>\n",
       "      <td>NaN</td>\n",
       "      <td>NaN</td>\n",
       "      <td>NaN</td>\n",
       "      <td>NaN</td>\n",
       "      <td>NaN</td>\n",
       "      <td>NaN</td>\n",
       "      <td>NaN</td>\n",
       "      <td>NaN</td>\n",
       "      <td>NaN</td>\n",
       "      <td>NaN</td>\n",
       "    </tr>\n",
       "  </tbody>\n",
       "</table>\n",
       "</div>"
      ],
      "text/plain": [
       "         id_usuario fecha_origen_recorrido id_estacion_origen  \\\n",
       "2459356      130849                  nuevo                NaN   \n",
       "2461804      130849                  nuevo                NaN   \n",
       "2464252      130849                  nuevo                NaN   \n",
       "2466700      130849                  nuevo                NaN   \n",
       "\n",
       "        nombre_estacion_origen  capacidad_estacion_origen  \\\n",
       "2459356                    NaN                        NaN   \n",
       "2461804                    NaN                        NaN   \n",
       "2464252                    NaN                        NaN   \n",
       "2466700                    NaN                        NaN   \n",
       "\n",
       "         lat_estacion_origen  long_estacion_origen duracion_recorrido  \\\n",
       "2459356                  NaN                   NaN                NaN   \n",
       "2461804                  NaN                   NaN                NaN   \n",
       "2464252                  NaN                   NaN                NaN   \n",
       "2466700                  NaN                   NaN                NaN   \n",
       "\n",
       "        fecha_destino_recorrido id_estacion_destino nombre_estacion_destino  \\\n",
       "2459356                     NaN                 NaN                     NaN   \n",
       "2461804                     NaN                 NaN                     NaN   \n",
       "2464252                     NaN                 NaN                     NaN   \n",
       "2466700                     NaN                 NaN                     NaN   \n",
       "\n",
       "         capacidad_estacion_destino  lat_estacion_destino  \\\n",
       "2459356                         NaN                   NaN   \n",
       "2461804                         NaN                   NaN   \n",
       "2464252                         NaN                   NaN   \n",
       "2466700                         NaN                   NaN   \n",
       "\n",
       "         long_estacion_destino  \n",
       "2459356                    NaN  \n",
       "2461804                    NaN  \n",
       "2464252                    NaN  \n",
       "2466700                    NaN  "
      ]
     },
     "execution_count": 16,
     "metadata": {},
     "output_type": "execute_result"
    }
   ],
   "source": [
    "df[~df['fecha_origen_recorrido'].str.startswith('2019')]"
   ]
  },
  {
   "cell_type": "markdown",
   "metadata": {},
   "source": [
    "I will drop those entries because they have no information."
   ]
  },
  {
   "cell_type": "code",
   "execution_count": 17,
   "metadata": {},
   "outputs": [],
   "source": [
    "df.drop(df[df['fecha_origen_recorrido']=='nuevo'].index, inplace=True)"
   ]
  },
  {
   "cell_type": "code",
   "execution_count": 18,
   "metadata": {},
   "outputs": [],
   "source": [
    "df['fecha_origen_recorrido'] = pd.to_datetime(df['fecha_origen_recorrido'])"
   ]
  },
  {
   "cell_type": "markdown",
   "metadata": {},
   "source": [
    "The _fecha_destino_recorrido_ columns has missing values. I should review those entries."
   ]
  },
  {
   "cell_type": "code",
   "execution_count": 23,
   "metadata": {},
   "outputs": [],
   "source": [
    "from qgrid import show_grid"
   ]
  },
  {
   "cell_type": "code",
   "execution_count": 24,
   "metadata": {},
   "outputs": [
    {
     "data": {
      "application/vnd.jupyter.widget-view+json": {
       "model_id": "ee7f235a0f2e4a969e380dd9aba89925",
       "version_major": 2,
       "version_minor": 0
      },
      "text/plain": [
       "QgridWidget(grid_options={'fullWidthRows': True, 'syncColumnCellResize': True, 'forceFitColumns': True, 'defau…"
      ]
     },
     "metadata": {},
     "output_type": "display_data"
    }
   ],
   "source": [
    "show_grid(df[df['fecha_destino_recorrido'].isnull()==True])"
   ]
  },
  {
   "cell_type": "markdown",
   "metadata": {},
   "source": [
    "Most of those entries have no information about destination. The rows which have values in destination have no data for duration. Probably those rides have never been taken. I will droped them."
   ]
  },
  {
   "cell_type": "code",
   "execution_count": 25,
   "metadata": {},
   "outputs": [],
   "source": [
    "df.drop(df[df['fecha_destino_recorrido'].isnull()==True].index, inplace=True)"
   ]
  },
  {
   "cell_type": "code",
   "execution_count": 27,
   "metadata": {},
   "outputs": [],
   "source": [
    "df['fecha_destino_recorrido'] = pd.to_datetime(df['fecha_destino_recorrido'])"
   ]
  },
  {
   "cell_type": "markdown",
   "metadata": {},
   "source": [
    "#### id_estacion"
   ]
  },
  {
   "cell_type": "markdown",
   "metadata": {},
   "source": [
    "Some entries have missing values in _id_estacion_origen_ and _id_estacion_destino_ columns.  "
   ]
  },
  {
   "cell_type": "code",
   "execution_count": 28,
   "metadata": {},
   "outputs": [
    {
     "data": {
      "text/plain": [
       "Ingeniero Butty                       4945\n",
       "Plaza De Los Periodistas              4416\n",
       "Agronomia                             2668\n",
       "Ministerio De Justicia Y Seguridad    1825\n",
       "Off Braudacco                          808\n",
       "Depósito                                22\n",
       "Ex Parque Avellaneda Ii                  9\n",
       "Name: nombre_estacion_origen, dtype: int64"
      ]
     },
     "execution_count": 28,
     "metadata": {},
     "output_type": "execute_result"
    }
   ],
   "source": [
    "df[df['id_estacion_origen'].isnull()==True]['nombre_estacion_origen'].value_counts()"
   ]
  },
  {
   "cell_type": "code",
   "execution_count": 29,
   "metadata": {},
   "outputs": [
    {
     "data": {
      "text/plain": [
       "Ingeniero Butty                       4876\n",
       "Plaza De Los Periodistas              4466\n",
       "Agronomia                             2669\n",
       "Ministerio De Justicia Y Seguridad    1821\n",
       "Off Braudacco                          818\n",
       "Depósito                               117\n",
       "Armazém                                 16\n",
       "Balboa Definitivo                       10\n",
       "Ex Parque Avellaneda Ii                 10\n",
       "Name: nombre_estacion_destino, dtype: int64"
      ]
     },
     "execution_count": 29,
     "metadata": {},
     "output_type": "execute_result"
    }
   ],
   "source": [
    "df[df['id_estacion_destino'].isnull()==True]['nombre_estacion_destino'].value_counts()"
   ]
  },
  {
   "cell_type": "markdown",
   "metadata": {},
   "source": [
    "Those trips whose station of origin or destination is the \"Depósito\" will be eliminated since they do not correspond to real trips made by users."
   ]
  },
  {
   "cell_type": "code",
   "execution_count": 30,
   "metadata": {},
   "outputs": [],
   "source": [
    "df.drop(df[df['nombre_estacion_origen']=='Depósito'].index, inplace=True)"
   ]
  },
  {
   "cell_type": "code",
   "execution_count": 31,
   "metadata": {},
   "outputs": [],
   "source": [
    "df.drop(df[df['nombre_estacion_destino']=='Depósito'].index, inplace=True)"
   ]
  },
  {
   "cell_type": "markdown",
   "metadata": {},
   "source": [
    "To replace the missing values I will use an auxiliary data set with information about the stations provided by the open data portal of the City of Buenos Aires."
   ]
  },
  {
   "cell_type": "code",
   "execution_count": 32,
   "metadata": {},
   "outputs": [],
   "source": [
    "sta_nuevo = pd.read_csv(r\"nuevas-estaciones-bicicletas-publicas.csv\")"
   ]
  },
  {
   "cell_type": "code",
   "execution_count": 33,
   "metadata": {},
   "outputs": [
    {
     "data": {
      "text/plain": [
       "Index(['lat', 'long', 'nombre_estacion', 'id_estacion', 'capacidad',\n",
       "       'dirección_completa', 'direccion_nombre', 'direccion_altura',\n",
       "       'direccion_interseccion', 'barrio'],\n",
       "      dtype='object')"
      ]
     },
     "execution_count": 33,
     "metadata": {},
     "output_type": "execute_result"
    }
   ],
   "source": [
    "sta_nuevo.columns"
   ]
  },
  {
   "cell_type": "code",
   "execution_count": 34,
   "metadata": {},
   "outputs": [
    {
     "data": {
      "text/html": [
       "<div>\n",
       "<style scoped>\n",
       "    .dataframe tbody tr th:only-of-type {\n",
       "        vertical-align: middle;\n",
       "    }\n",
       "\n",
       "    .dataframe tbody tr th {\n",
       "        vertical-align: top;\n",
       "    }\n",
       "\n",
       "    .dataframe thead th {\n",
       "        text-align: right;\n",
       "    }\n",
       "</style>\n",
       "<table border=\"1\" class=\"dataframe\">\n",
       "  <thead>\n",
       "    <tr style=\"text-align: right;\">\n",
       "      <th></th>\n",
       "      <th>lat</th>\n",
       "      <th>long</th>\n",
       "      <th>nombre_estacion</th>\n",
       "      <th>id_estacion</th>\n",
       "      <th>capacidad</th>\n",
       "      <th>dirección_completa</th>\n",
       "      <th>direccion_nombre</th>\n",
       "      <th>direccion_altura</th>\n",
       "      <th>direccion_interseccion</th>\n",
       "      <th>barrio</th>\n",
       "    </tr>\n",
       "  </thead>\n",
       "  <tbody>\n",
       "    <tr>\n",
       "      <th>24</th>\n",
       "      <td>-34.596425</td>\n",
       "      <td>-58.371847</td>\n",
       "      <td>035 - INGENIERO BUTTY</td>\n",
       "      <td>35</td>\n",
       "      <td>20</td>\n",
       "      <td>Ing. E. Butty 291</td>\n",
       "      <td>Ing. E. Butty</td>\n",
       "      <td>291.0</td>\n",
       "      <td>NaN</td>\n",
       "      <td>Retiro</td>\n",
       "    </tr>\n",
       "  </tbody>\n",
       "</table>\n",
       "</div>"
      ],
      "text/plain": [
       "          lat       long        nombre_estacion  id_estacion  capacidad  \\\n",
       "24 -34.596425 -58.371847  035 - INGENIERO BUTTY           35         20   \n",
       "\n",
       "   dirección_completa direccion_nombre  direccion_altura  \\\n",
       "24  Ing. E. Butty 291   Ing. E. Butty              291.0   \n",
       "\n",
       "   direccion_interseccion  barrio  \n",
       "24                    NaN  Retiro  "
      ]
     },
     "execution_count": 34,
     "metadata": {},
     "output_type": "execute_result"
    }
   ],
   "source": [
    "sta_nuevo[sta_nuevo['nombre_estacion'].str.lower().str.contains('Ingeniero Butty'.lower())]"
   ]
  },
  {
   "cell_type": "code",
   "execution_count": 35,
   "metadata": {},
   "outputs": [],
   "source": [
    "df.loc[df['nombre_estacion_origen']=='Ingeniero Butty','id_estacion_origen'] = '35.0'"
   ]
  },
  {
   "cell_type": "code",
   "execution_count": 36,
   "metadata": {},
   "outputs": [],
   "source": [
    "df.loc[df['nombre_estacion_destino']=='Ingeniero Butty','id_estacion_destino'] = '35.0'"
   ]
  },
  {
   "cell_type": "code",
   "execution_count": 37,
   "metadata": {},
   "outputs": [
    {
     "data": {
      "text/html": [
       "<div>\n",
       "<style scoped>\n",
       "    .dataframe tbody tr th:only-of-type {\n",
       "        vertical-align: middle;\n",
       "    }\n",
       "\n",
       "    .dataframe tbody tr th {\n",
       "        vertical-align: top;\n",
       "    }\n",
       "\n",
       "    .dataframe thead th {\n",
       "        text-align: right;\n",
       "    }\n",
       "</style>\n",
       "<table border=\"1\" class=\"dataframe\">\n",
       "  <thead>\n",
       "    <tr style=\"text-align: right;\">\n",
       "      <th></th>\n",
       "      <th>lat</th>\n",
       "      <th>long</th>\n",
       "      <th>nombre_estacion</th>\n",
       "      <th>id_estacion</th>\n",
       "      <th>capacidad</th>\n",
       "      <th>dirección_completa</th>\n",
       "      <th>direccion_nombre</th>\n",
       "      <th>direccion_altura</th>\n",
       "      <th>direccion_interseccion</th>\n",
       "      <th>barrio</th>\n",
       "    </tr>\n",
       "  </thead>\n",
       "  <tbody>\n",
       "    <tr>\n",
       "      <th>81</th>\n",
       "      <td>-34.640267</td>\n",
       "      <td>-58.369224</td>\n",
       "      <td>126 - Ministerio de Justicia y Seguridad</td>\n",
       "      <td>126</td>\n",
       "      <td>16</td>\n",
       "      <td>Regimiento De Patricios Av. &amp; Araoz De Lamadri...</td>\n",
       "      <td>Regimiento De Patricios Av.</td>\n",
       "      <td>NaN</td>\n",
       "      <td>Araoz De Lamadrid, Gregorio, Gral.</td>\n",
       "      <td>Boca</td>\n",
       "    </tr>\n",
       "  </tbody>\n",
       "</table>\n",
       "</div>"
      ],
      "text/plain": [
       "          lat       long                           nombre_estacion  \\\n",
       "81 -34.640267 -58.369224  126 - Ministerio de Justicia y Seguridad   \n",
       "\n",
       "    id_estacion  capacidad                                 dirección_completa  \\\n",
       "81          126         16  Regimiento De Patricios Av. & Araoz De Lamadri...   \n",
       "\n",
       "                direccion_nombre  direccion_altura  \\\n",
       "81  Regimiento De Patricios Av.                NaN   \n",
       "\n",
       "                 direccion_interseccion barrio  \n",
       "81   Araoz De Lamadrid, Gregorio, Gral.   Boca  "
      ]
     },
     "execution_count": 37,
     "metadata": {},
     "output_type": "execute_result"
    }
   ],
   "source": [
    "sta_nuevo[sta_nuevo['nombre_estacion'].str.lower().str.contains('Ministerio De Justicia Y Seguridad'.lower())]"
   ]
  },
  {
   "cell_type": "code",
   "execution_count": 38,
   "metadata": {},
   "outputs": [],
   "source": [
    "df.loc[df['nombre_estacion_origen']=='Ministerio De Justicia Y Seguridad','id_estacion_origen'] = '126.0'"
   ]
  },
  {
   "cell_type": "code",
   "execution_count": 39,
   "metadata": {},
   "outputs": [],
   "source": [
    "df.loc[df['nombre_estacion_destino']=='Ministerio De Justicia Y Seguridad','id_estacion_destino'] = '126.0'"
   ]
  },
  {
   "cell_type": "markdown",
   "metadata": {},
   "source": [
    "The other stations with no values are not found in the station dataset. They were probably deleted or have changed their ID. Since they have not information on location and / or capacity, they will not be useful for the analysis. On the other hand they represent a very small percentage of trips. Therefore, I will eliminate those entries."
   ]
  },
  {
   "cell_type": "code",
   "execution_count": 40,
   "metadata": {},
   "outputs": [],
   "source": [
    "vacio_origen = df[df['id_estacion_origen'].isnull()==True]['nombre_estacion_origen'].unique().tolist()"
   ]
  },
  {
   "cell_type": "code",
   "execution_count": 41,
   "metadata": {},
   "outputs": [],
   "source": [
    "for i in vacio_origen:\n",
    "    df.drop(df[df['nombre_estacion_origen']==i].index, inplace=True)"
   ]
  },
  {
   "cell_type": "code",
   "execution_count": 42,
   "metadata": {},
   "outputs": [],
   "source": [
    "vacio_destino = df[df['id_estacion_destino'].isnull()==True]['nombre_estacion_destino'].unique().tolist()"
   ]
  },
  {
   "cell_type": "code",
   "execution_count": 43,
   "metadata": {},
   "outputs": [],
   "source": [
    "for i in vacio_destino:\n",
    "    df.drop(df[df['nombre_estacion_destino']==i].index, inplace=True)"
   ]
  },
  {
   "cell_type": "markdown",
   "metadata": {},
   "source": [
    "According to the legend generated when I loaded the dataset, it is likely that the variable contains data that does not represent a number or has data of different types (object/float/int)."
   ]
  },
  {
   "cell_type": "code",
   "execution_count": 44,
   "metadata": {},
   "outputs": [],
   "source": [
    "df['id_estacion_origen'] = df['id_estacion_origen'].astype('str') "
   ]
  },
  {
   "cell_type": "code",
   "execution_count": 45,
   "metadata": {},
   "outputs": [
    {
     "data": {
      "text/html": [
       "<div>\n",
       "<style scoped>\n",
       "    .dataframe tbody tr th:only-of-type {\n",
       "        vertical-align: middle;\n",
       "    }\n",
       "\n",
       "    .dataframe tbody tr th {\n",
       "        vertical-align: top;\n",
       "    }\n",
       "\n",
       "    .dataframe thead th {\n",
       "        text-align: right;\n",
       "    }\n",
       "</style>\n",
       "<table border=\"1\" class=\"dataframe\">\n",
       "  <thead>\n",
       "    <tr style=\"text-align: right;\">\n",
       "      <th></th>\n",
       "      <th>id_usuario</th>\n",
       "      <th>fecha_origen_recorrido</th>\n",
       "      <th>id_estacion_origen</th>\n",
       "      <th>nombre_estacion_origen</th>\n",
       "      <th>capacidad_estacion_origen</th>\n",
       "      <th>lat_estacion_origen</th>\n",
       "      <th>long_estacion_origen</th>\n",
       "      <th>duracion_recorrido</th>\n",
       "      <th>fecha_destino_recorrido</th>\n",
       "      <th>id_estacion_destino</th>\n",
       "      <th>nombre_estacion_destino</th>\n",
       "      <th>capacidad_estacion_destino</th>\n",
       "      <th>lat_estacion_destino</th>\n",
       "      <th>long_estacion_destino</th>\n",
       "    </tr>\n",
       "  </thead>\n",
       "  <tbody>\n",
       "    <tr>\n",
       "      <th>12</th>\n",
       "      <td>533267</td>\n",
       "      <td>2019-01-01 00:49:12</td>\n",
       "      <td>159_0</td>\n",
       "      <td>Fitz Roy y Gorriti</td>\n",
       "      <td>NaN</td>\n",
       "      <td>NaN</td>\n",
       "      <td>NaN</td>\n",
       "      <td>0 days 00:19:42.000000000</td>\n",
       "      <td>2019-01-01 01:08:54</td>\n",
       "      <td>127.0</td>\n",
       "      <td>Santos Dumont y Otero</td>\n",
       "      <td>NaN</td>\n",
       "      <td>-34.592212</td>\n",
       "      <td>-58.452927</td>\n",
       "    </tr>\n",
       "    <tr>\n",
       "      <th>126</th>\n",
       "      <td>377910</td>\n",
       "      <td>2019-01-01 06:56:26</td>\n",
       "      <td>159_0</td>\n",
       "      <td>Fitz Roy y Gorriti</td>\n",
       "      <td>NaN</td>\n",
       "      <td>NaN</td>\n",
       "      <td>NaN</td>\n",
       "      <td>0 days 00:54:48.000000000</td>\n",
       "      <td>2019-01-01 07:51:14</td>\n",
       "      <td>6.0</td>\n",
       "      <td>Parque Lezama</td>\n",
       "      <td>NaN</td>\n",
       "      <td>-34.628301</td>\n",
       "      <td>-58.369709</td>\n",
       "    </tr>\n",
       "    <tr>\n",
       "      <th>320</th>\n",
       "      <td>414003</td>\n",
       "      <td>2019-01-01 14:09:49</td>\n",
       "      <td>44_0</td>\n",
       "      <td>Ecoparque</td>\n",
       "      <td>NaN</td>\n",
       "      <td>NaN</td>\n",
       "      <td>NaN</td>\n",
       "      <td>0 days 00:05:13.000000000</td>\n",
       "      <td>2019-01-01 14:15:02</td>\n",
       "      <td>44_0</td>\n",
       "      <td>Ecoparque</td>\n",
       "      <td>NaN</td>\n",
       "      <td>NaN</td>\n",
       "      <td>NaN</td>\n",
       "    </tr>\n",
       "    <tr>\n",
       "      <th>345</th>\n",
       "      <td>493515</td>\n",
       "      <td>2019-01-01 14:36:05</td>\n",
       "      <td>159_0</td>\n",
       "      <td>Fitz Roy y Gorriti</td>\n",
       "      <td>NaN</td>\n",
       "      <td>NaN</td>\n",
       "      <td>NaN</td>\n",
       "      <td>0 days 00:19:24.000000000</td>\n",
       "      <td>2019-01-01 14:55:29</td>\n",
       "      <td>50.0</td>\n",
       "      <td>Hospital Rivadavia</td>\n",
       "      <td>NaN</td>\n",
       "      <td>-34.583677</td>\n",
       "      <td>-58.401148</td>\n",
       "    </tr>\n",
       "    <tr>\n",
       "      <th>349</th>\n",
       "      <td>218398</td>\n",
       "      <td>2019-01-01 14:39:57</td>\n",
       "      <td>44_0</td>\n",
       "      <td>Ecoparque</td>\n",
       "      <td>NaN</td>\n",
       "      <td>NaN</td>\n",
       "      <td>NaN</td>\n",
       "      <td>0 days 00:05:14.000000000</td>\n",
       "      <td>2019-01-01 14:45:11</td>\n",
       "      <td>44_0</td>\n",
       "      <td>Ecoparque</td>\n",
       "      <td>NaN</td>\n",
       "      <td>NaN</td>\n",
       "      <td>NaN</td>\n",
       "    </tr>\n",
       "  </tbody>\n",
       "</table>\n",
       "</div>"
      ],
      "text/plain": [
       "     id_usuario fecha_origen_recorrido id_estacion_origen  \\\n",
       "12       533267    2019-01-01 00:49:12              159_0   \n",
       "126      377910    2019-01-01 06:56:26              159_0   \n",
       "320      414003    2019-01-01 14:09:49               44_0   \n",
       "345      493515    2019-01-01 14:36:05              159_0   \n",
       "349      218398    2019-01-01 14:39:57               44_0   \n",
       "\n",
       "    nombre_estacion_origen  capacidad_estacion_origen  lat_estacion_origen  \\\n",
       "12      Fitz Roy y Gorriti                        NaN                  NaN   \n",
       "126     Fitz Roy y Gorriti                        NaN                  NaN   \n",
       "320              Ecoparque                        NaN                  NaN   \n",
       "345     Fitz Roy y Gorriti                        NaN                  NaN   \n",
       "349              Ecoparque                        NaN                  NaN   \n",
       "\n",
       "     long_estacion_origen         duracion_recorrido fecha_destino_recorrido  \\\n",
       "12                    NaN  0 days 00:19:42.000000000     2019-01-01 01:08:54   \n",
       "126                   NaN  0 days 00:54:48.000000000     2019-01-01 07:51:14   \n",
       "320                   NaN  0 days 00:05:13.000000000     2019-01-01 14:15:02   \n",
       "345                   NaN  0 days 00:19:24.000000000     2019-01-01 14:55:29   \n",
       "349                   NaN  0 days 00:05:14.000000000     2019-01-01 14:45:11   \n",
       "\n",
       "    id_estacion_destino nombre_estacion_destino  capacidad_estacion_destino  \\\n",
       "12                127.0   Santos Dumont y Otero                         NaN   \n",
       "126                 6.0           Parque Lezama                         NaN   \n",
       "320                44_0               Ecoparque                         NaN   \n",
       "345                50.0      Hospital Rivadavia                         NaN   \n",
       "349                44_0               Ecoparque                         NaN   \n",
       "\n",
       "     lat_estacion_destino  long_estacion_destino  \n",
       "12             -34.592212             -58.452927  \n",
       "126            -34.628301             -58.369709  \n",
       "320                   NaN                    NaN  \n",
       "345            -34.583677             -58.401148  \n",
       "349                   NaN                    NaN  "
      ]
     },
     "execution_count": 45,
     "metadata": {},
     "output_type": "execute_result"
    }
   ],
   "source": [
    "df[~df['id_estacion_origen'].str.contains(pat='[.]')].head()"
   ]
  },
  {
   "cell_type": "code",
   "execution_count": 46,
   "metadata": {},
   "outputs": [
    {
     "data": {
      "text/plain": [
       "array(['159_0', '44_0'], dtype=object)"
      ]
     },
     "execution_count": 46,
     "metadata": {},
     "output_type": "execute_result"
    }
   ],
   "source": [
    "df[~df['id_estacion_origen'].str.contains(pat='[.]')]['id_estacion_origen'].unique()"
   ]
  },
  {
   "cell_type": "code",
   "execution_count": 47,
   "metadata": {},
   "outputs": [],
   "source": [
    "df['id_estacion_origen'].replace('159_0', '159.0', inplace=True)"
   ]
  },
  {
   "cell_type": "code",
   "execution_count": 48,
   "metadata": {},
   "outputs": [],
   "source": [
    "df['id_estacion_origen'].replace('44_0', '44.0', inplace=True)"
   ]
  },
  {
   "cell_type": "code",
   "execution_count": 49,
   "metadata": {},
   "outputs": [],
   "source": [
    "df['id_estacion_origen'] = df['id_estacion_origen'].astype('float64').astype('int64') "
   ]
  },
  {
   "cell_type": "code",
   "execution_count": 50,
   "metadata": {},
   "outputs": [],
   "source": [
    "df['id_estacion_destino'] = df['id_estacion_destino'].astype('str') "
   ]
  },
  {
   "cell_type": "code",
   "execution_count": 51,
   "metadata": {},
   "outputs": [
    {
     "data": {
      "text/plain": [
       "array(['44_0', '159_0'], dtype=object)"
      ]
     },
     "execution_count": 51,
     "metadata": {},
     "output_type": "execute_result"
    }
   ],
   "source": [
    "df[~df['id_estacion_destino'].str.contains(pat='[.]')]['id_estacion_destino'].unique()"
   ]
  },
  {
   "cell_type": "code",
   "execution_count": 52,
   "metadata": {},
   "outputs": [],
   "source": [
    "df['id_estacion_destino'].replace('44_0', '44.0', inplace=True)"
   ]
  },
  {
   "cell_type": "code",
   "execution_count": 53,
   "metadata": {},
   "outputs": [],
   "source": [
    "df['id_estacion_destino'].replace('159_0', '159.0', inplace=True)"
   ]
  },
  {
   "cell_type": "code",
   "execution_count": 54,
   "metadata": {},
   "outputs": [],
   "source": [
    "df.drop(df[df['id_estacion_destino']=='_0'].index, inplace=True)"
   ]
  },
  {
   "cell_type": "code",
   "execution_count": 55,
   "metadata": {},
   "outputs": [],
   "source": [
    "df['id_estacion_destino'] = df['id_estacion_destino'].astype('float64').astype('Int64')"
   ]
  },
  {
   "cell_type": "code",
   "execution_count": 56,
   "metadata": {},
   "outputs": [],
   "source": [
    "df.drop(['nombre_estacion_origen', 'nombre_estacion_destino'], axis=1, inplace=True)"
   ]
  },
  {
   "cell_type": "markdown",
   "metadata": {},
   "source": [
    "#### capacidad_estacion"
   ]
  },
  {
   "cell_type": "markdown",
   "metadata": {},
   "source": [
    "Both capacity columns have empty values. I will analyze which are the stations with missing data."
   ]
  },
  {
   "cell_type": "code",
   "execution_count": 58,
   "metadata": {},
   "outputs": [
    {
     "data": {
      "text/plain": [
       "id_estacion_origen\n",
       "1          [nan]\n",
       "2    [nan, 20.0]\n",
       "3         [20.0]\n",
       "4    [nan, 20.0]\n",
       "5    [nan, 42.0]\n",
       "Name: capacidad_estacion_origen, dtype: object"
      ]
     },
     "execution_count": 58,
     "metadata": {},
     "output_type": "execute_result"
    }
   ],
   "source": [
    "df.groupby('id_estacion_origen')['capacidad_estacion_origen'].unique().head()"
   ]
  },
  {
   "cell_type": "code",
   "execution_count": 59,
   "metadata": {},
   "outputs": [],
   "source": [
    "capacidad = df.dropna(subset=['capacidad_estacion_origen'])[['id_estacion_origen','capacidad_estacion_origen']]"
   ]
  },
  {
   "cell_type": "code",
   "execution_count": 60,
   "metadata": {},
   "outputs": [],
   "source": [
    "capacidad = capacidad.drop_duplicates()"
   ]
  },
  {
   "cell_type": "code",
   "execution_count": 61,
   "metadata": {},
   "outputs": [],
   "source": [
    "capacidad_dict = dict(capacidad.values.tolist())"
   ]
  },
  {
   "cell_type": "code",
   "execution_count": 62,
   "metadata": {},
   "outputs": [],
   "source": [
    "df['capacidad_estacion_origen'] = df['id_estacion_origen'].map(capacidad_dict)"
   ]
  },
  {
   "cell_type": "code",
   "execution_count": 63,
   "metadata": {},
   "outputs": [],
   "source": [
    "df['capacidad_estacion_destino'] = df['id_estacion_destino'].map(capacidad_dict)"
   ]
  },
  {
   "cell_type": "code",
   "execution_count": 64,
   "metadata": {},
   "outputs": [
    {
     "data": {
      "text/plain": [
       "array([ 16, 129, 142, 159, 160,  34,  35,  18, 147,  61, 139,   1, 123,\n",
       "       140, 157,  97, 113, 145, 103, 136, 100, 109, 178,  67,  37, 133,\n",
       "       125], dtype=int64)"
      ]
     },
     "execution_count": 64,
     "metadata": {},
     "output_type": "execute_result"
    }
   ],
   "source": [
    "df[df['capacidad_estacion_origen'].isnull()]['id_estacion_origen'].unique()"
   ]
  },
  {
   "cell_type": "code",
   "execution_count": 65,
   "metadata": {},
   "outputs": [
    {
     "data": {
      "text/html": [
       "<div>\n",
       "<style scoped>\n",
       "    .dataframe tbody tr th:only-of-type {\n",
       "        vertical-align: middle;\n",
       "    }\n",
       "\n",
       "    .dataframe tbody tr th {\n",
       "        vertical-align: top;\n",
       "    }\n",
       "\n",
       "    .dataframe thead th {\n",
       "        text-align: right;\n",
       "    }\n",
       "</style>\n",
       "<table border=\"1\" class=\"dataframe\">\n",
       "  <thead>\n",
       "    <tr style=\"text-align: right;\">\n",
       "      <th></th>\n",
       "      <th>lat</th>\n",
       "      <th>long</th>\n",
       "      <th>nombre_estacion</th>\n",
       "      <th>id_estacion</th>\n",
       "      <th>capacidad</th>\n",
       "      <th>dirección_completa</th>\n",
       "      <th>direccion_nombre</th>\n",
       "      <th>direccion_altura</th>\n",
       "      <th>direccion_interseccion</th>\n",
       "      <th>barrio</th>\n",
       "    </tr>\n",
       "  </thead>\n",
       "  <tbody>\n",
       "    <tr>\n",
       "      <th>24</th>\n",
       "      <td>-34.596425</td>\n",
       "      <td>-58.371847</td>\n",
       "      <td>035 - INGENIERO BUTTY</td>\n",
       "      <td>35</td>\n",
       "      <td>20</td>\n",
       "      <td>Ing. E. Butty 291</td>\n",
       "      <td>Ing. E. Butty</td>\n",
       "      <td>291.0</td>\n",
       "      <td>NaN</td>\n",
       "      <td>Retiro</td>\n",
       "    </tr>\n",
       "  </tbody>\n",
       "</table>\n",
       "</div>"
      ],
      "text/plain": [
       "          lat       long        nombre_estacion  id_estacion  capacidad  \\\n",
       "24 -34.596425 -58.371847  035 - INGENIERO BUTTY           35         20   \n",
       "\n",
       "   dirección_completa direccion_nombre  direccion_altura  \\\n",
       "24  Ing. E. Butty 291   Ing. E. Butty              291.0   \n",
       "\n",
       "   direccion_interseccion  barrio  \n",
       "24                    NaN  Retiro  "
      ]
     },
     "execution_count": 65,
     "metadata": {},
     "output_type": "execute_result"
    }
   ],
   "source": [
    "sta_nuevo[sta_nuevo['id_estacion']==35]"
   ]
  },
  {
   "cell_type": "code",
   "execution_count": 66,
   "metadata": {},
   "outputs": [],
   "source": [
    "df.loc[df['id_estacion_origen']==35,'capacidad_estacion_origen']=20"
   ]
  },
  {
   "cell_type": "code",
   "execution_count": 67,
   "metadata": {},
   "outputs": [],
   "source": [
    "df.loc[df['id_estacion_destino']==35,'capacidad_estacion_destino']=20"
   ]
  },
  {
   "cell_type": "code",
   "execution_count": 68,
   "metadata": {},
   "outputs": [],
   "source": [
    "cap_null = df[df['capacidad_estacion_origen'].isnull()]"
   ]
  },
  {
   "cell_type": "code",
   "execution_count": 69,
   "metadata": {},
   "outputs": [],
   "source": [
    "cap_null = cap_null.set_index('fecha_origen_recorrido')"
   ]
  },
  {
   "cell_type": "code",
   "execution_count": 70,
   "metadata": {},
   "outputs": [
    {
     "data": {
      "text/plain": [
       "fecha_origen_recorrido\n",
       "1    19861\n",
       "2    12253\n",
       "Name: id_estacion_origen, dtype: int64"
      ]
     },
     "execution_count": 70,
     "metadata": {},
     "output_type": "execute_result"
    }
   ],
   "source": [
    "cap_null.groupby(by=cap_null.index.month)['id_estacion_origen'].count()"
   ]
  },
  {
   "cell_type": "markdown",
   "metadata": {},
   "source": [
    "Stations with missign data were only used in the months of January and February 2019. Probably the ols system did not record information about capacity."
   ]
  },
  {
   "cell_type": "markdown",
   "metadata": {},
   "source": [
    "#### lat_estacion and long_estacion"
   ]
  },
  {
   "cell_type": "code",
   "execution_count": 71,
   "metadata": {},
   "outputs": [
    {
     "data": {
      "text/plain": [
       "array([159,  44,  35, 126], dtype=int64)"
      ]
     },
     "execution_count": 71,
     "metadata": {},
     "output_type": "execute_result"
    }
   ],
   "source": [
    "df[df['lat_estacion_origen'].isna()]['id_estacion_origen'].unique()"
   ]
  },
  {
   "cell_type": "code",
   "execution_count": 72,
   "metadata": {},
   "outputs": [
    {
     "data": {
      "text/plain": [
       "array([-34.6402672,         nan])"
      ]
     },
     "execution_count": 72,
     "metadata": {},
     "output_type": "execute_result"
    }
   ],
   "source": [
    "df[df['id_estacion_origen']==126]['lat_estacion_origen'].unique()"
   ]
  },
  {
   "cell_type": "code",
   "execution_count": 73,
   "metadata": {},
   "outputs": [
    {
     "data": {
      "text/plain": [
       "array([        nan, -34.5755148])"
      ]
     },
     "execution_count": 73,
     "metadata": {},
     "output_type": "execute_result"
    }
   ],
   "source": [
    "df[df['id_estacion_origen']==44]['lat_estacion_origen'].unique()"
   ]
  },
  {
   "cell_type": "code",
   "execution_count": 74,
   "metadata": {},
   "outputs": [
    {
     "data": {
      "text/plain": [
       "array([-34.59632739,          nan])"
      ]
     },
     "execution_count": 74,
     "metadata": {},
     "output_type": "execute_result"
    }
   ],
   "source": [
    "df[df['id_estacion_origen']==35]['lat_estacion_origen'].unique()"
   ]
  },
  {
   "cell_type": "code",
   "execution_count": 75,
   "metadata": {},
   "outputs": [],
   "source": [
    "df.loc[df['id_estacion_origen']==44,'lat_estacion_origen']=-34.5755148\n",
    "df.loc[df['id_estacion_origen']==35,'lat_estacion_origen']=-34.59632739\n",
    "df.loc[df['id_estacion_origen']==126,'lat_estacion_origen']=-34.6402672"
   ]
  },
  {
   "cell_type": "code",
   "execution_count": 76,
   "metadata": {},
   "outputs": [
    {
     "data": {
      "text/plain": [
       "<IntegerArray>\n",
       "[44, 159, 35, 126]\n",
       "Length: 4, dtype: Int64"
      ]
     },
     "execution_count": 76,
     "metadata": {},
     "output_type": "execute_result"
    }
   ],
   "source": [
    "df[df['lat_estacion_destino'].isna()]['id_estacion_destino'].unique()"
   ]
  },
  {
   "cell_type": "code",
   "execution_count": 77,
   "metadata": {},
   "outputs": [],
   "source": [
    "df.loc[df['id_estacion_destino']==44,'lat_estacion_destino']=-34.5755148\n",
    "df.loc[df['id_estacion_destino']==35,'lat_estacion_destino']=-34.59632739\n",
    "df.loc[df['id_estacion_destino']==126,'lat_estacion_destino']=-34.6402672"
   ]
  },
  {
   "cell_type": "code",
   "execution_count": 78,
   "metadata": {},
   "outputs": [
    {
     "data": {
      "text/plain": [
       "array([159,  44,  35, 126], dtype=int64)"
      ]
     },
     "execution_count": 78,
     "metadata": {},
     "output_type": "execute_result"
    }
   ],
   "source": [
    "df[df['long_estacion_origen'].isna()]['id_estacion_origen'].unique()"
   ]
  },
  {
   "cell_type": "code",
   "execution_count": 79,
   "metadata": {},
   "outputs": [
    {
     "data": {
      "text/plain": [
       "array([-58.3692243,         nan])"
      ]
     },
     "execution_count": 79,
     "metadata": {},
     "output_type": "execute_result"
    }
   ],
   "source": [
    "df[df['id_estacion_origen']==126]['long_estacion_origen'].unique()"
   ]
  },
  {
   "cell_type": "code",
   "execution_count": 80,
   "metadata": {},
   "outputs": [
    {
     "data": {
      "text/plain": [
       "array([        nan, -58.4138829, -58.4138829])"
      ]
     },
     "execution_count": 80,
     "metadata": {},
     "output_type": "execute_result"
    }
   ],
   "source": [
    "df[df['id_estacion_origen']==44]['long_estacion_origen'].unique()"
   ]
  },
  {
   "cell_type": "code",
   "execution_count": 81,
   "metadata": {},
   "outputs": [
    {
     "data": {
      "text/plain": [
       "array([-58.37185787,          nan])"
      ]
     },
     "execution_count": 81,
     "metadata": {},
     "output_type": "execute_result"
    }
   ],
   "source": [
    "df[df['id_estacion_origen']==35]['long_estacion_origen'].unique()"
   ]
  },
  {
   "cell_type": "code",
   "execution_count": 82,
   "metadata": {},
   "outputs": [],
   "source": [
    "df.loc[df['id_estacion_origen']==126,'long_estacion_origen']=-58.3692243\n",
    "df.loc[df['id_estacion_origen']==35,'long_estacion_origen']=-58.37185787\n",
    "df.loc[df['id_estacion_origen']==44,'long_estacion_origen']=-58.4138829"
   ]
  },
  {
   "cell_type": "code",
   "execution_count": 83,
   "metadata": {},
   "outputs": [
    {
     "data": {
      "text/plain": [
       "<IntegerArray>\n",
       "[159]\n",
       "Length: 1, dtype: Int64"
      ]
     },
     "execution_count": 83,
     "metadata": {},
     "output_type": "execute_result"
    }
   ],
   "source": [
    "df[df['lat_estacion_destino'].isna()]['id_estacion_destino'].unique()"
   ]
  },
  {
   "cell_type": "code",
   "execution_count": 84,
   "metadata": {},
   "outputs": [],
   "source": [
    "df.loc[df['id_estacion_destino']==126,'long_estacion_destino']=-58.3692243\n",
    "df.loc[df['id_estacion_destino']==35,'long_estacion_destino']=-58.37185787\n",
    "df.loc[df['id_estacion_destino']==44,'long_estacion_destino']=-58.4138829"
   ]
  },
  {
   "cell_type": "code",
   "execution_count": 85,
   "metadata": {},
   "outputs": [],
   "source": [
    "df['lat_estacion_origen'] = np.round(df['lat_estacion_origen'],6)\n",
    "df['lat_estacion_destino'] = np.round(df['lat_estacion_destino'],6)\n",
    "df['long_estacion_origen'] = np.round(df['long_estacion_origen'],6)\n",
    "df['long_estacion_destino'] = np.round(df['long_estacion_destino'],6)"
   ]
  },
  {
   "cell_type": "markdown",
   "metadata": {},
   "source": [
    "#### duracion_recorrido"
   ]
  },
  {
   "cell_type": "markdown",
   "metadata": {},
   "source": [
    "For a better analysis of the data, I will convert the variable ride duration in seconds."
   ]
  },
  {
   "cell_type": "code",
   "execution_count": 86,
   "metadata": {},
   "outputs": [],
   "source": [
    "df['duracion_recorrido'] = pd.to_timedelta(df['duracion_recorrido'])"
   ]
  },
  {
   "cell_type": "code",
   "execution_count": 87,
   "metadata": {},
   "outputs": [],
   "source": [
    "df['duracion_recorrido'] = np.round(df['duracion_recorrido'].dt.total_seconds(),0)"
   ]
  },
  {
   "cell_type": "code",
   "execution_count": 93,
   "metadata": {},
   "outputs": [
    {
     "data": {
      "text/plain": [
       "count    6.352334e+06\n",
       "mean     2.022891e+03\n",
       "std      1.879189e+04\n",
       "min      0.000000e+00\n",
       "1%       1.130000e+02\n",
       "10%      3.940000e+02\n",
       "25%      6.460000e+02\n",
       "50%      1.154000e+03\n",
       "75%      2.084000e+03\n",
       "99%      1.053700e+04\n",
       "max      1.217354e+07\n",
       "Name: duracion_recorrido, dtype: float64"
      ]
     },
     "execution_count": 93,
     "metadata": {},
     "output_type": "execute_result"
    }
   ],
   "source": [
    "df['duracion_recorrido'].describe(percentiles=[0.01,0.1,0.25,0.5,0.75,0.99])"
   ]
  },
  {
   "cell_type": "markdown",
   "metadata": {},
   "source": [
    "It does not make sense that someone take a ride for a less than 2 minutes. If we assume a mean velocity of 200m/min, in 2 minutes we can travel only 4 blocks. I will drop those 1% entries."
   ]
  },
  {
   "cell_type": "code",
   "execution_count": 104,
   "metadata": {},
   "outputs": [],
   "source": [
    "df.drop(df[df['duracion_recorrido']<=113].index, axis=0, inplace=True)"
   ]
  },
  {
   "cell_type": "markdown",
   "metadata": {},
   "source": [
    "There are trips with an exorbitant duration, probably corresponding to bicycle repairs or some improper use of the system. I will drop those entries which duration trip are equal or higher than the 99 percentile. I will treat them as outliers."
   ]
  },
  {
   "cell_type": "code",
   "execution_count": 105,
   "metadata": {},
   "outputs": [],
   "source": [
    "df.drop(df[df['duracion_recorrido']>=10537].index, axis=0, inplace=True)"
   ]
  },
  {
   "cell_type": "markdown",
   "metadata": {},
   "source": [
    "I will download the cleaned dataset for future analysis"
   ]
  },
  {
   "cell_type": "code",
   "execution_count": 106,
   "metadata": {},
   "outputs": [],
   "source": [
    "df.to_csv('ecobici_2019_v1.csv', index=False)"
   ]
  }
 ],
 "metadata": {
  "kernelspec": {
   "display_name": "Python 3",
   "language": "python",
   "name": "python3"
  },
  "language_info": {
   "codemirror_mode": {
    "name": "ipython",
    "version": 3
   },
   "file_extension": ".py",
   "mimetype": "text/x-python",
   "name": "python",
   "nbconvert_exporter": "python",
   "pygments_lexer": "ipython3",
   "version": "3.8.3"
  },
  "pelican": {
   "category": "post",
   "date": "2020-11-08",
   "summary": "This is the first part of the Ecobici project",
   "title": "Relax and take a bike ride! - part I"
  }
 },
 "nbformat": 4,
 "nbformat_minor": 4
}
